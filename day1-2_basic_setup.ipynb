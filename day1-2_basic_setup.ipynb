{
 "cells": [
  {
   "cell_type": "code",
   "execution_count": 45,
   "id": "3105a6c1-3c4d-4830-8064-c807caebcbc5",
   "metadata": {},
   "outputs": [],
   "source": [
    "# Run this cell first to install packages\n",
    "#!pip install langchain langchain-openai python-dotenv"
   ]
  },
  {
   "cell_type": "code",
   "execution_count": 39,
   "id": "6ba9579e-6797-467c-a81a-32565e4902ab",
   "metadata": {},
   "outputs": [
    {
     "name": "stdout",
     "output_type": "stream",
     "text": [
      "✅ API key loaded safely!\n",
      "Response: 'Security test passed'\n"
     ]
    }
   ],
   "source": [
    "# Test if your safe setup works\n",
    "import os\n",
    "from dotenv import load_dotenv\n",
    "\n",
    "load_dotenv()\n",
    "\n",
    "# Check if key loads (don't print the actual key!)\n",
    "if os.getenv(\"OPENAI_API_KEY\"):\n",
    "    print(\"✅ API key loaded safely!\")\n",
    "else:\n",
    "    print(\"❌ API key not found - check your .env file\")\n",
    "\n",
    "# Test with LangChain\n",
    "from langchain_openai import ChatOpenAI\n",
    "from langchain.schema import HumanMessage\n",
    "\n",
    "llm = ChatOpenAI(model=\"gpt-3.5-turbo\")\n",
    "response = llm.invoke([HumanMessage(content=\"Say 'Security test passed'\")])\n",
    "print(\"Response:\", response.content)"
   ]
  },
  {
   "cell_type": "code",
   "execution_count": 41,
   "id": "360261cb-09e3-45e7-923a-5cca7b169723",
   "metadata": {},
   "outputs": [
    {
     "name": "stdout",
     "output_type": "stream",
     "text": [
      "2 + 2 = 4\n"
     ]
    }
   ],
   "source": [
    "# Step 1: Create a simple function to ask questions\n",
    "def ask_ai(question):\n",
    "    message = HumanMessage(content=question)\n",
    "    response = llm.invoke([message])\n",
    "    return response.content\n",
    "\n",
    "# Test it\n",
    "answer = ask_ai(\"What is 2+2?\")\n",
    "print(answer)"
   ]
  },
  {
   "cell_type": "code",
   "execution_count": 43,
   "id": "3b11b8d4-dd46-488d-9b94-74a5c086a71b",
   "metadata": {},
   "outputs": [
    {
     "name": "stdout",
     "output_type": "stream",
     "text": [
      "Prompt: Explain Python in simple words:\n"
     ]
    }
   ],
   "source": [
    "# Step 2: Import template tools\n",
    "from langchain.prompts import PromptTemplate\n",
    "\n",
    "# Create a template\n",
    "template = PromptTemplate(\n",
    "    input_variables=[\"topic\"],\n",
    "    template=\"Explain {topic} in simple words:\"\n",
    ")\n",
    "\n",
    "# Test the template\n",
    "prompt = template.format(topic=\"Python\")\n",
    "print(\"Prompt:\", prompt)"
   ]
  },
  {
   "cell_type": "code",
   "execution_count": 15,
   "id": "1a987813-c7c5-4d24-b97f-8864a643546b",
   "metadata": {},
   "outputs": [
    {
     "name": "stdout",
     "output_type": "stream",
     "text": [
      "Topic: cats\n",
      "Answer: Cats are furry animals that are commonly kept as pets. They are known for their agility, independence, and playful nature. Cats are carnivores, which means they primarily eat meat. They have retractable claws and sharp teeth, which they use for hunting and grooming. Cats are known for their ability to purr and meow to communicate with their owners. They are also known for their curiosity and love to explore their surroundings. Cats are generally clean animals and spend a lot of time grooming themselves. They can be very affectionate and form strong bonds with their human companions.\n"
     ]
    }
   ],
   "source": [
    "# Step 3: Use template with AI\n",
    "def explain_topic(topic):\n",
    "    # Make the prompt\n",
    "    prompt = template.format(topic=topic)\n",
    "    \n",
    "    # Ask AI\n",
    "    answer = ask_ai(prompt)\n",
    "    return answer\n",
    "\n",
    "# Test it\n",
    "result = explain_topic(\"cats\")\n",
    "print(\"Topic: cats\")\n",
    "print(\"Answer:\", result)"
   ]
  },
  {
   "cell_type": "code",
   "execution_count": 19,
   "id": "0a67d46f-534e-4b99-b183-9fd60bc381d0",
   "metadata": {},
   "outputs": [
    {
     "name": "stdout",
     "output_type": "stream",
     "text": [
      "Modern chain about fish:\n",
      "Fish are cold-blooded animals that live in water. They have fins to help them swim and gills to breathe. Fish come in many different shapes, sizes, and colors, and they eat a variety of foods like plants, insects, and other fish. People enjoy fishing for fish as a sport or to eat.\n"
     ]
    }
   ],
   "source": [
    "# Step 5: Modern way (no warnings)\n",
    "# Chain = template + AI\n",
    "modern_chain = template | llm\n",
    "\n",
    "# Use it\n",
    "result = modern_chain.invoke({\"topic\": \"fish\"})\n",
    "print(\"Modern chain about fish:\")\n",
    "print(result.content)"
   ]
  },
  {
   "cell_type": "code",
   "execution_count": 23,
   "id": "97a7e9e8-0fbd-4a0e-b9e7-aaa285749e26",
   "metadata": {},
   "outputs": [
    {
     "name": "stdout",
     "output_type": "stream",
     "text": [
      "Pizza nutrition:\n",
      "The nutritional value of a typical slice of cheese pizza (1/8th of a 14-inch pizza) can vary depending on the type of crust and toppings used. On average, a slice of cheese pizza contains around:\n",
      "\n",
      "- Calories: 200-300\n",
      "- Protein: 8-12 grams\n",
      "- Carbohydrates: 25-35 grams\n",
      "- Fat: 8-12 grams\n",
      "- Vitamins and minerals: Pizza can provide some essential vitamins and minerals, such as calcium, iron, vitamin A, and vitamin C, depending on the ingredients used.\n",
      "\n",
      "It's important to note that the nutritional value can vary significantly based on the type of crust, cheese, and toppings used. Adding vegetables or lean proteins as toppings can increase the nutritional value of pizza.\n"
     ]
    }
   ],
   "source": [
    "# Step 7: Create nutrition template\n",
    "nutrition_template = PromptTemplate(\n",
    "    input_variables=[\"food\"],\n",
    "    template=\"List the nutritional value of {food}. Include calories, protein, carbs, and vitamins:\"\n",
    ")\n",
    "\n",
    "# Create nutrition chain\n",
    "nutrition_chain = nutrition_template | llm\n",
    "\n",
    "# Test with pizza\n",
    "result = nutrition_chain.invoke({\"food\": \"pizza\"})\n",
    "print(\"Pizza nutrition:\")\n",
    "print(result.content)"
   ]
  },
  {
   "cell_type": "code",
   "execution_count": 25,
   "id": "f75e0dfb-4da3-40c8-8403-089f0ac32bce",
   "metadata": {},
   "outputs": [
    {
     "name": "stdout",
     "output_type": "stream",
     "text": [
      "Multi-variable result:\n",
      "Cats are like little ninjas in fur coats. They can sneak up on you without making a sound, and then pounce on your shoelaces like they're hunting a wild beast. But don't let their cute faces fool you - they're really just plotting how to take over the world one nap at a time. So next time you see a cat, be sure to give them some treats and maybe they'll let you live to see another day.\n"
     ]
    }
   ],
   "source": [
    "# Step 1: Template with multiple variables\n",
    "multi_template = PromptTemplate(\n",
    "    input_variables=[\"style\", \"topic\", \"audience\"],\n",
    "    template=\"\"\"\n",
    "    Write about {topic} in a {style} style for {audience}.\n",
    "    Keep it short and clear.\n",
    "    \"\"\"\n",
    ")\n",
    "\n",
    "# Create chain\n",
    "style_chain = multi_template | llm\n",
    "\n",
    "# Test it\n",
    "result = style_chain.invoke({\n",
    "    \"style\": \"funny\", \n",
    "    \"topic\": \"cats\", \n",
    "    \"audience\": \"kids\"\n",
    "})\n",
    "\n",
    "print(\"Multi-variable result:\")\n",
    "print(result.content)"
   ]
  },
  {
   "cell_type": "code",
   "execution_count": 27,
   "id": "87b84fff-1390-4cbb-81f1-41f2d68070fc",
   "metadata": {},
   "outputs": [
    {
     "name": "stdout",
     "output_type": "stream",
     "text": [
      "Professional style:\n",
      "Programming is the process of creating instructions for computers to follow. It involves writing code using programming languages such as Python, JavaScript, or Java. By learning how to program, you can develop software, websites, and applications.\n",
      "\n",
      "To start programming, you need to understand basic programming concepts such as variables, loops, and functions. Practice coding regularly and seek feedback from experienced programmers to improve your skills.\n",
      "\n",
      "Remember to write clean and organized code, comment on your code to explain your logic, and test your code thoroughly to ensure it works correctly. With dedication and practice, you can become a proficient programmer and build amazing projects.\n",
      "\n",
      "==================================================\n",
      "\n",
      "Casual style:\n",
      "Hey guys, let's talk about cooking! It may seem daunting at first, but trust me, it can be super fun and rewarding. Start with simple recipes like pasta or grilled cheese sandwiches. Don't be afraid to get creative and add your own twist to dishes. Remember to always follow the recipe and have all your ingredients ready before you start. And most importantly, don't stress if things don't turn out perfect the first time - practice makes perfect! So grab your apron and get cooking, you'll be a pro in no time. Enjoy and happy cooking!\n"
     ]
    }
   ],
   "source": [
    "# Step 2: Try different combinations\n",
    "# Professional style\n",
    "result1 = style_chain.invoke({\n",
    "    \"style\": \"professional\", \n",
    "    \"topic\": \"programming\", \n",
    "    \"audience\": \"beginners\"\n",
    "})\n",
    "\n",
    "print(\"Professional style:\")\n",
    "print(result1.content)\n",
    "print(\"\\n\" + \"=\"*50 + \"\\n\")\n",
    "\n",
    "# Casual style\n",
    "result2 = style_chain.invoke({\n",
    "    \"style\": \"casual\", \n",
    "    \"topic\": \"cooking\", \n",
    "    \"audience\": \"teenagers\"\n",
    "})\n",
    "\n",
    "print(\"Casual style:\")\n",
    "print(result2.content)"
   ]
  },
  {
   "cell_type": "code",
   "execution_count": 29,
   "id": "97e44c02-98a2-41f4-9972-a4879187ac1e",
   "metadata": {},
   "outputs": [
    {
     "name": "stdout",
     "output_type": "stream",
     "text": [
      "Few-shot definition:\n",
      "Machine that processes information and performs tasks according to instructions.\n"
     ]
    }
   ],
   "source": [
    "# Step 3: Few-shot learning (teach by examples)\n",
    "few_shot_template = PromptTemplate(\n",
    "    input_variables=[\"word\"],\n",
    "    template=\"\"\"\n",
    "    Create a simple definition like these examples:\n",
    "    \n",
    "    Example 1:\n",
    "    Word: Happy\n",
    "    Definition: Feeling good and smiling\n",
    "    \n",
    "    Example 2:\n",
    "    Word: Rain\n",
    "    Definition: Water falling from clouds\n",
    "    \n",
    "    Now do this one:\n",
    "    Word: {word}\n",
    "    Definition:\n",
    "    \"\"\"\n",
    ")\n",
    "\n",
    "# Create chain\n",
    "definition_chain = few_shot_template | llm\n",
    "\n",
    "# Test it\n",
    "result = definition_chain.invoke({\"word\": \"computer\"})\n",
    "print(\"Few-shot definition:\")\n",
    "print(result.content)"
   ]
  },
  {
   "cell_type": "code",
   "execution_count": 31,
   "id": "69c63391-46e8-4345-8f7e-33bd270af7d8",
   "metadata": {},
   "outputs": [
    {
     "name": "stdout",
     "output_type": "stream",
     "text": [
      "For 5-year-old:\n",
      "Okay kiddo, picture electricity like tiny invisible super fast cars running through wires. When we plug things in, the cars zoom through the wires to give our toys power to work and lights to shine bright. Just remember to always be careful around electricity and never touch wires or outlets. It's like magic, but we have to use it safely!\n",
      "\n",
      "==============================\n",
      "\n",
      "For 25-year-old:\n",
      "Electricity is a form of energy that is created when charged particles, like electrons, flow through a conductor, such as a wire. These charged particles carry energy from power plants to our homes, allowing us to power our devices and appliances. Electricity is essential for modern life, as it powers everything from our lights and electronics to transportation systems and industrial machinery. It is generated through various methods, such as burning fossil fuels, harnessing the power of flowing water, or capturing energy from sunlight or wind. Understanding how electricity works helps us manage and utilize this vital energy source efficiently.\n"
     ]
    }
   ],
   "source": [
    "# Step 4: Conditional templates\n",
    "conditional_template = PromptTemplate(\n",
    "    input_variables=[\"age\", \"topic\"],\n",
    "    template=\"\"\"\n",
    "    Explain {topic} for someone who is {age} years old.\n",
    "    \n",
    "    If age is under 10: use very simple words and fun examples\n",
    "    If age is 10-17: use clear explanations with relatable examples  \n",
    "    If age is 18+: use detailed, technical explanations\n",
    "    \n",
    "    Age: {age}\n",
    "    Topic: {topic}\n",
    "    Explanation:\n",
    "    \"\"\"\n",
    ")\n",
    "\n",
    "# Create chain\n",
    "age_chain = conditional_template | llm\n",
    "\n",
    "# Test different ages\n",
    "result1 = age_chain.invoke({\"age\": \"5\", \"topic\": \"electricity\"})\n",
    "print(\"For 5-year-old:\")\n",
    "print(result1.content)\n",
    "print(\"\\n\" + \"=\"*30 + \"\\n\")\n",
    "\n",
    "result2 = age_chain.invoke({\"age\": \"25\", \"topic\": \"electricity\"})\n",
    "print(\"For 25-year-old:\")\n",
    "print(result2.content)"
   ]
  },
  {
   "cell_type": "code",
   "execution_count": null,
   "id": "71893cb3-5712-4a47-a1ff-8a80ecedc9ff",
   "metadata": {},
   "outputs": [],
   "source": []
  }
 ],
 "metadata": {
  "kernelspec": {
   "display_name": "Python 3 (ipykernel)",
   "language": "python",
   "name": "python3"
  },
  "language_info": {
   "codemirror_mode": {
    "name": "ipython",
    "version": 3
   },
   "file_extension": ".py",
   "mimetype": "text/x-python",
   "name": "python",
   "nbconvert_exporter": "python",
   "pygments_lexer": "ipython3",
   "version": "3.12.4"
  }
 },
 "nbformat": 4,
 "nbformat_minor": 5
}
