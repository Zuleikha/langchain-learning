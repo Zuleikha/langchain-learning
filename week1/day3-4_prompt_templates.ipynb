{
 "cells": [
  {
   "cell_type": "code",
   "execution_count": 3,
   "id": "cb357bb9-6bc8-48a3-b15a-4c17bf318e92",
   "metadata": {},
   "outputs": [
    {
     "name": "stdout",
     "output_type": "stream",
     "text": [
      "Day 3-4: Prompt Templates - Ready!\n"
     ]
    }
   ],
   "source": [
    "# Day 3-4: Advanced Prompt Templates\n",
    "import os\n",
    "from dotenv import load_dotenv\n",
    "from langchain_openai import ChatOpenAI\n",
    "from langchain.prompts import PromptTemplate\n",
    "\n",
    "# Load API key safely\n",
    "load_dotenv()\n",
    "llm = ChatOpenAI(model=\"gpt-3.5-turbo\")\n",
    "\n",
    "print(\"Day 3-4: Prompt Templates - Ready!\")"
   ]
  },
  {
   "cell_type": "code",
   "execution_count": 5,
   "id": "dc5a2dd2-0baf-4102-9aa6-ddefbcdfe0dc",
   "metadata": {},
   "outputs": [
    {
     "name": "stdout",
     "output_type": "stream",
     "text": [
      "Multi-variable template result:\n",
      "Do you know about cats? They're like little fluffy ninjas with whiskers and attitude. Cats are the masters of mischief and can turn any box into a luxury apartment. They spend their days napping, plotting world domination, and chasing laser pointers like they're training for the Olympics. But don't be fooled by their cute faces – cats have a wild side and can go from cuddly to crazy in the blink of an eye. So if you ever meet a cat, be prepared for a whirlwind of fur and fun!\n"
     ]
    }
   ],
   "source": [
    "# Cell 2: Multi-Variable Templates\n",
    "multi_template = PromptTemplate(\n",
    "    input_variables=[\"style\", \"topic\", \"audience\"],\n",
    "    template=\"\"\"\n",
    "    Write about {topic} in a {style} style for {audience}.\n",
    "    Keep it short and clear.\n",
    "    \"\"\"\n",
    ")\n",
    "\n",
    "# Create chain\n",
    "style_chain = multi_template | llm\n",
    "\n",
    "# Test it\n",
    "result = style_chain.invoke({\n",
    "    \"style\": \"funny\", \n",
    "    \"topic\": \"cats\", \n",
    "    \"audience\": \"kids\"\n",
    "})\n",
    "\n",
    "print(\"Multi-variable template result:\")\n",
    "print(result.content)"
   ]
  },
  {
   "cell_type": "code",
   "execution_count": 5,
   "id": "37b95711-484f-40c7-88ed-49665d71085f",
   "metadata": {},
   "outputs": [
    {
     "name": "stdout",
     "output_type": "stream",
     "text": [
      "Few-shot definition:\n",
      "Definition: A close and supportive relationship between two or more people.\n"
     ]
    }
   ],
   "source": [
    "# Cell 3: Few-Shot Examples (teach by showing examples)\n",
    "few_shot_template = PromptTemplate(\n",
    "    input_variables=[\"word\"],\n",
    "    template=\"\"\"\n",
    "    Create a simple definition like these examples:\n",
    "    \n",
    "    Example 1:\n",
    "    Word: Happy\n",
    "    Definition: Feeling good and smiling\n",
    "    \n",
    "    Example 2:\n",
    "    Word: Rain\n",
    "    Definition: Water falling from clouds\n",
    "    \n",
    "    Now do this one:\n",
    "    Word: {word}\n",
    "    Definition:\n",
    "    \"\"\"\n",
    ")\n",
    "\n",
    "# Create chain\n",
    "definition_chain = few_shot_template | llm\n",
    "\n",
    "# Test it\n",
    "result = definition_chain.invoke({\"word\": \"friendship\"})\n",
    "print(\"Few-shot definition:\")\n",
    "print(result.content)"
   ]
  },
  {
   "cell_type": "code",
   "execution_count": 7,
   "id": "9feaf02b-bbe4-4042-9f62-bb34a26790aa",
   "metadata": {},
   "outputs": [
    {
     "name": "stdout",
     "output_type": "stream",
     "text": [
      "Smart Bot Explanation:\n",
      "In Python, a variable is like a container that holds a piece of information, such as a number, text, or list. We use variables to store and manipulate data in our programs. \n",
      "\n",
      "To create a variable, we give it a name and assign a value to it using the \"=\" sign. For example, we can create a variable called \"age\" and assign the value 25 to it like this: \n",
      "\n",
      "age = 25\n",
      "\n",
      "We can then use this variable in our code to perform calculations, display information, or store data for later use. Variables can hold different types of data, such as integers (whole numbers), floating-point numbers (numbers with decimals), strings (text), and lists (collections of items). \n",
      "\n",
      "Variables in Python are flexible and can be changed or updated as needed throughout the program. They make our code more readable, organized, and easier to maintain.\n",
      "\n",
      " Day 3-4 Complete!\n"
     ]
    }
   ],
   "source": [
    "# Cell 4: Complete Smart Bot \n",
    "class SmartBot:\n",
    "    def __init__(self, llm):\n",
    "        self.llm = llm\n",
    "    \n",
    "    def explain(self, topic, level=\"simple\"):\n",
    "        template = PromptTemplate(\n",
    "            input_variables=[\"topic\", \"level\"],\n",
    "            template=\"Explain {topic} in {level} terms:\"\n",
    "        )\n",
    "        chain = template | self.llm\n",
    "        return chain.invoke({\"topic\": topic, \"level\": level}).content\n",
    "\n",
    "# Create and test your bot\n",
    "my_bot = SmartBot(llm)\n",
    "\n",
    "explanation = my_bot.explain(\"variables in Python\", \"beginner\")\n",
    "print(\"Smart Bot Explanation:\")\n",
    "print(explanation)\n",
    "\n",
    "print(\"\\n Day 3-4 Complete!\")"
   ]
  },
  {
   "cell_type": "code",
   "execution_count": null,
   "id": "8a31b4ee-e110-4aeb-86aa-0d2c17124aa7",
   "metadata": {},
   "outputs": [],
   "source": []
  }
 ],
 "metadata": {
  "kernelspec": {
   "display_name": "Python 3 (ipykernel)",
   "language": "python",
   "name": "python3"
  },
  "language_info": {
   "codemirror_mode": {
    "name": "ipython",
    "version": 3
   },
   "file_extension": ".py",
   "mimetype": "text/x-python",
   "name": "python",
   "nbconvert_exporter": "python",
   "pygments_lexer": "ipython3",
   "version": "3.12.4"
  }
 },
 "nbformat": 4,
 "nbformat_minor": 5
}
